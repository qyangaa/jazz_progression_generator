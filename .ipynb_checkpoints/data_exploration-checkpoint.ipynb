{
 "cells": [
  {
   "cell_type": "code",
   "execution_count": 1,
   "metadata": {},
   "outputs": [],
   "source": [
    "from music21 import *\n",
    "import glob\n",
    "import pickle\n",
    "import numpy"
   ]
  },
  {
   "cell_type": "code",
   "execution_count": 2,
   "metadata": {},
   "outputs": [
    {
     "name": "stdout",
     "output_type": "stream",
     "text": [
      "number of tracks: 8\n"
     ]
    }
   ],
   "source": [
    "for file in glob.glob(\"data/*.midi\"):\n",
    "    mf = midi.MidiFile()\n",
    "    mf.open(file)\n",
    "    mf.read()\n",
    "    mf.close()\n",
    "    print('number of tracks:', len(mf.tracks))\n",
    "    s = midi.translate.midiFileToStream(mf)"
   ]
  },
  {
   "cell_type": "code",
   "execution_count": 21,
   "metadata": {
    "scrolled": true
   },
   "outputs": [
    {
     "name": "stdout",
     "output_type": "stream",
     "text": [
      "Parsing data/011.midi\n"
     ]
    }
   ],
   "source": [
    "#read midifile into music21.stream object\n",
    "notes = []\n",
    "\n",
    "for file in glob.glob(\"data/011.midi\"):\n",
    "    midi = converter.parse(file)\n",
    "\n",
    "    print(\"Parsing %s\" % file)\n",
    "\n",
    "    notes_to_parse = None\n",
    "\n",
    "    try: # file has instrument parts\n",
    "        s2 = instrument.partitionByInstrument(midi)\n",
    "        notes_to_parse = s2.parts[0].recurse() \n",
    "    except: # file has notes in a flat structure\n",
    "        notes_to_parse = midi.flat.notes\n",
    "\n",
    "    for element in notes_to_parse:\n",
    "        if isinstance(element, note.Note):\n",
    "            notes.append(str(element.pitch))\n",
    "        elif isinstance(element, chord.Chord):\n",
    "            notes.append('.'.join(str(n) for n in element.normalOrder))\n"
   ]
  },
  {
   "cell_type": "code",
   "execution_count": 62,
   "metadata": {},
   "outputs": [
    {
     "name": "stdout",
     "output_type": "stream",
     "text": [
      "number of instruments: 5\n",
      "Name of instruments: ['Acoustic Bass', 'Piano', 'Trumpet', 'Electric Guitar', 'Violin']\n",
      "an example chord\n",
      "<music21.note.Note B>\n"
     ]
    },
    {
     "data": {
      "image/png": "[encoded data removed]",
      "text/plain": [
       "<IPython.core.display.Image object>"
      ]
     },
     "metadata": {
      "image/png": {
       "height": 35,
       "width": 157
      }
     },
     "output_type": "display_data"
    },
    {
     "name": "stdout",
     "output_type": "stream",
     "text": [
      "an example chord\n",
      "<music21.chord.Chord A4 F#4>\n"
     ]
    },
    {
     "data": {
      "image/png": "[encoded data removed]",
      "text/plain": [
       "<IPython.core.display.Image object>"
      ]
     },
     "metadata": {
      "image/png": {
       "height": 54,
       "width": 197
      }
     },
     "output_type": "display_data"
    },
    {
     "data": {
      "text/plain": [
       "<music21.stream.Part Piano>"
      ]
     },
     "execution_count": 62,
     "metadata": {},
     "output_type": "execute_result"
    }
   ],
   "source": [
    "#look at the channels of the stream\n",
    "channels = [i.partName for i in s2 if i.partName is not None]\n",
    "print('number of instruments:',len(channels))\n",
    "print('Name of instruments:',channels)\n",
    "#sample representation of note\n",
    "print('an example chord')\n",
    "s2[1][7].show('text')\n",
    "s2[1][7].show()\n",
    "#sample representation of chord\n",
    "print('an example chord')\n",
    "s2[1][6].show('text')\n",
    "s2[1][6].show()"
   ]
  },
  {
   "cell_type": "code",
   "execution_count": 134,
   "metadata": {},
   "outputs": [
    {
     "name": "stdout",
     "output_type": "stream",
     "text": [
      "Note\n",
      "pitch: B3\n",
      "offset: 3.75\n",
      "octave: 3\n",
      "duration: 3.5\n",
      "Chord\n",
      "pitch: no such attribute\n",
      "offset: 3.75\n",
      "octave: no such attribute\n",
      "duration: 3.6666666666666665\n"
     ]
    }
   ],
   "source": [
    "#attributes of the classes\n",
    "#note class\n",
    "inst1 = s2[1][7]\n",
    "isinstance(inst1, note.Note)\n",
    "print('Note')\n",
    "print('pitch:',str(inst1.pitch))\n",
    "print('offset:',str(inst1.offset))\n",
    "print('octave:',str(inst1.octave))\n",
    "print('duration:',float(inst1.quarterLength)) \n",
    "#chord class\n",
    "print('Chord')\n",
    "inst2 = s2[1][6]\n",
    "isinstance(inst2, note.Note)\n",
    "print('pitch: no such attribute')\n",
    "print('offset:',str(inst2.offset))\n",
    "print('octave: no such attribute')\n",
    "print('duration:',float(inst2.quarterLength)) #duration is expressed in fraction, so we need to convert to float for better learning"
   ]
  },
  {
   "cell_type": "code",
   "execution_count": 132,
   "metadata": {},
   "outputs": [
    {
     "data": {
      "text/plain": [
       "3.6666666666666665"
      ]
     },
     "execution_count": 132,
     "metadata": {},
     "output_type": "execute_result"
    }
   ],
   "source": [
    "\"\"\" Get all the notes and chords from the midi files in the ./full_set_beethoven_mozart directory. Call BEFORE train \"\"\"\n",
    "notes = []\n",
    "durations = []\n",
    "\n",
    "for file in glob.glob(\"full_set_beethoven_mozart/*.mid\"):\n",
    "    midi = converter.parse(file)\n",
    "\n",
    "    print(\"Parsing %s\" % file)\n",
    "\n",
    "    notes_to_parse = None\n",
    "\n",
    "    try: # file has instrument parts\n",
    "        s2 = instrument.partitionByInstrument(midi) #Change to only grab the piano???\n",
    "        notes_to_parse = s2.parts[0].recurse() \n",
    "    except: # file has notes in a flat structure\n",
    "        notes_to_parse = midi.flat.notes\n",
    "\n",
    "    for element in notes_to_parse:\n",
    "        if isinstance(element, note.Note):\n",
    "            notes.append(str(element.pitch) + \" \" +  str(element.quarterLength))\n",
    "        elif isinstance(element, chord.Chord):\n",
    "            notes.append('.'.join(str(n) for n in element.normalOrder) + \" \" + str(element.quarterLength))\n",
    "        elif isinstance(element, note.Rest):\n",
    "            notes.append(str(element.name)  + \" \" + str(element.quarterLength))\n",
    "\n",
    "with open('data/notes', 'wb') as filepath:\n",
    "    pickle.dump(notes, filepath)"
   ]
  },
  {
   "cell_type": "code",
   "execution_count": null,
   "metadata": {},
   "outputs": [],
   "source": []
  }
 ],
 "metadata": {
  "kernelspec": {
   "display_name": "Python 3",
   "language": "python",
   "name": "python3"
  },
  "language_info": {
   "codemirror_mode": {
    "name": "ipython",
    "version": 3
   },
   "file_extension": ".py",
   "mimetype": "text/x-python",
   "name": "python",
   "nbconvert_exporter": "python",
   "pygments_lexer": "ipython3",
   "version": "3.7.2"
  }
 },
 "nbformat": 4,
 "nbformat_minor": 2
}
